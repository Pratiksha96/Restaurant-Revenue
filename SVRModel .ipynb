{
 "cells": [
  {
   "cell_type": "code",
   "execution_count": 16,
   "metadata": {
    "collapsed": true
   },
   "outputs": [],
   "source": [
    "import pandas as pd\n",
    "import numpy as np\n",
    "\n",
    "#read csv data file\n",
    "train_data = pd.read_csv(\"D:/Python Codes/train.csv\",parse_dates = [1])\n",
    "test_data = pd.read_csv(\"D:/Python Codes/test.csv\",parse_dates = [1])\n",
    "\n",
    "\n",
    "#change object type to integer\n",
    "train_data['City Group'] = train_data['City Group'].map({'Big Cities': 1, 'Other': 0}).astype(int)\n",
    "train_data['Type'] = train_data['Type'].map({'IL': 0,'FC': 1,'DT': 2,'MB': 3}).astype(int)\n",
    "\n",
    "test_data['City Group'] = test_data['City Group'].map({'Big Cities': 1, 'Other': 0}).astype(int)\n",
    "test_data['Type'] = test_data['Type'].map({'IL': 0,'FC': 1,'DT': 2,'MB': 3}).astype(int)\n",
    "\n",
    "import datetime as dt\n",
    "from datetime import date\n",
    "\n",
    "train_data = train_data.copy()\n",
    "d = date(2015, 12, 31)\n",
    "\n",
    "#splitting date\n",
    "train_data['Year'] = pd.DatetimeIndex(train_data['Open Date']).year\n",
    "train_data['Month'] = pd.DatetimeIndex(train_data['Open Date']).month\n",
    "train_data['Day'] = pd.DatetimeIndex(train_data['Open Date']).day\n",
    "\n",
    "test_data = test_data.copy()\n",
    "test_data['Year'] = pd.DatetimeIndex(test_data['Open Date']).year\n",
    "test_data['Month'] = pd.DatetimeIndex(test_data['Open Date']).month\n",
    "test_data['Day'] = pd.DatetimeIndex(test_data['Open Date']).day\n",
    "\n",
    "#finding age of restaurant\n",
    "train_data['Days'] = (d - train_data['Open Date']).astype('timedelta64[D]')\n",
    "train_data['Months'] = (d - train_data['Open Date']).astype('timedelta64[D]')/30\n",
    "\n",
    "test_data['Days'] = (d - test_data['Open Date']).astype('timedelta64[D]')\n",
    "test_data['Months'] = (d - test_data['Open Date']).astype('timedelta64[D]')/30\n",
    "\n",
    "#dropping column not to be used\n",
    "train_data = train_data.drop(['Id','Open Date'],axis = 1)\n",
    "test_data = test_data.drop(['Id','Open Date'],axis = 1)"
   ]
  },
  {
   "cell_type": "code",
   "execution_count": 24,
   "metadata": {
    "collapsed": false
   },
   "outputs": [],
   "source": [
    "from sklearn.decomposition import PCA\n",
    "from sklearn import svm\n",
    "y_train = train_data[train_data.revenue > 16000000]\n",
    "\n",
    "numerical_label = ['P' + str(i) for i in range(1,38)]\n",
    "X_names = numerical_label + ['Type', 'City Group','Days','Day','Month','Months','Year']\n",
    "X_train = train_data[X_names]\n",
    "y_train = train_data['revenue']\n",
    "X_test = test_data[X_names]\n",
    "\n",
    "#Applying PCA\n",
    "pca = PCA(n_components=40)\n",
    "pca.fit(X_train)\n",
    "\n",
    "#Prediction using SVM\n",
    "clf = svm.SVR()\n",
    "clf.fit(X_train,y_train)\n",
    "pred = clf.predict(X_test)\n",
    "\n",
    "#prepare the required output format\n",
    "result = pd.read_csv('D:/Python Codes/sampleSubmission.csv')\n",
    "result['Prediction'] = pred\n",
    "result.to_csv('Result.csv',index=False)"
   ]
  },
  {
   "cell_type": "code",
   "execution_count": null,
   "metadata": {
    "collapsed": true
   },
   "outputs": [],
   "source": []
  }
 ],
 "metadata": {
  "anaconda-cloud": {},
  "kernelspec": {
   "display_name": "Python [conda root]",
   "language": "python",
   "name": "conda-root-py"
  },
  "language_info": {
   "codemirror_mode": {
    "name": "ipython",
    "version": 2
   },
   "file_extension": ".py",
   "mimetype": "text/x-python",
   "name": "python",
   "nbconvert_exporter": "python",
   "pygments_lexer": "ipython2",
   "version": "2.7.12"
  }
 },
 "nbformat": 4,
 "nbformat_minor": 1
}
